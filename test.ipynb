{
    "cells": [
        {
            "cell_type": "code",
            "execution_count": 2,
            "source": [
                "import torch\r\n",
                "torch.__version__"
            ],
            "outputs": [
                {
                    "output_type": "execute_result",
                    "data": {
                        "text/plain": [
                            "'1.9.0+cu102'"
                        ]
                    },
                    "metadata": {},
                    "execution_count": 2
                }
            ],
            "metadata": {}
        },
        {
            "cell_type": "code",
            "execution_count": null,
            "source": [
                "a = torch.randn(3, 5, requires_grad=True)\r\n",
                "a"
            ],
            "outputs": [],
            "metadata": {}
        }
    ],
    "metadata": {
        "orig_nbformat": 4,
        "language_info": {
            "name": "python",
            "version": "3.7.6",
            "mimetype": "text/x-python",
            "codemirror_mode": {
                "name": "ipython",
                "version": 3
            },
            "pygments_lexer": "ipython3",
            "nbconvert_exporter": "python",
            "file_extension": ".py"
        },
        "kernelspec": {
            "name": "python3",
            "display_name": "Python 3.7.6 64-bit ('venv': venv)"
        },
        "interpreter": {
            "hash": "be428f660985857db2ed01cadcee9f4bfc5ec4d338235425978435df9ef7a192"
        }
    },
    "nbformat": 4,
    "nbformat_minor": 2
}