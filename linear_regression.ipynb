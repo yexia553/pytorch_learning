{
    "cells": [
        {
            "cell_type": "code",
            "execution_count": 83,
            "source": [
                "import torch\r\n",
                "import torch.nn as nn\r\n",
                "import numpy as np\r\n",
                "\r\n",
                "x_values = [i for i in range(11)]\r\n",
                "x_train = np.array(x_values, dtype=np.float32)\r\n",
                "x_train = x_train.reshape(-1, 1)\r\n",
                "x_train.shape"
            ],
            "outputs": [
                {
                    "output_type": "execute_result",
                    "data": {
                        "text/plain": [
                            "(11, 1)"
                        ]
                    },
                    "metadata": {},
                    "execution_count": 83
                }
            ],
            "metadata": {}
        },
        {
            "cell_type": "code",
            "execution_count": 84,
            "source": [
                "y_values = [i*2 + 1 for i in x_values ]\r\n",
                "y_train = np.array(y_values, dtype=np.float32)\r\n",
                "y_train = y_train.reshape(-1, 1)\r\n",
                "y_train.shape"
            ],
            "outputs": [
                {
                    "output_type": "execute_result",
                    "data": {
                        "text/plain": [
                            "(11, 1)"
                        ]
                    },
                    "metadata": {},
                    "execution_count": 84
                }
            ],
            "metadata": {}
        },
        {
            "cell_type": "markdown",
            "source": [
                "构建线性回归模型"
            ],
            "metadata": {}
        },
        {
            "cell_type": "code",
            "execution_count": 85,
            "source": [
                "class LinerRegressionModel(nn.Module):\r\n",
                "    def __init__(self, input_dim, output_dim):\r\n",
                "        super().__init__()\r\n",
                "        self.liner = nn.Linear(input_dim, output_dim)\r\n",
                "\r\n",
                "    def forward(self, x):\r\n",
                "        out = self.liner(x)\r\n",
                "        return out\r\n",
                "        "
            ],
            "outputs": [],
            "metadata": {}
        },
        {
            "cell_type": "markdown",
            "source": [
                "指定输入输出的维度"
            ],
            "metadata": {}
        },
        {
            "cell_type": "code",
            "execution_count": 86,
            "source": [
                "input_dim = 1\r\n",
                "output_dim = 1\r\n",
                "model = LinerRegressionModel(input_dim, output_dim)\r\n",
                "\r\n",
                "device = torch.device('cuda:0' if torch.cuda.is_available() else 'cpu')\r\n",
                "model.to(device)"
            ],
            "outputs": [],
            "metadata": {}
        },
        {
            "cell_type": "markdown",
            "source": [
                "指定参数和损失函数"
            ],
            "metadata": {}
        },
        {
            "cell_type": "code",
            "execution_count": 87,
            "source": [
                "epochs = 1000\r\n",
                "learning_rate = 0.01\r\n",
                "optimizer = torch.optim.SGD(model.parameters(), lr=learning_rate)\r\n",
                "criterion = nn.MSELoss()"
            ],
            "outputs": [],
            "metadata": {}
        },
        {
            "cell_type": "markdown",
            "source": [
                "开始训练模型"
            ],
            "metadata": {}
        },
        {
            "cell_type": "code",
            "execution_count": 88,
            "source": [
                "for epoch in range(epochs):\r\n",
                "    epoch += 1\r\n",
                "    \r\n",
                "    inputs = torch.from_numpy(x_train).to(device)\r\n",
                "    labels = torch.from_numpy(y_train).to(device)\r\n",
                "\r\n",
                "    optimizer.zero_grad()\r\n",
                "\r\n",
                "    outputs = model(inputs)\r\n",
                "\r\n",
                "    loss = criterion(outputs, labels)\r\n",
                "\r\n",
                "    loss.backward()\r\n",
                "\r\n",
                "    optimizer.step()\r\n",
                "\r\n",
                "    if epoch % 100 == 0:\r\n",
                "        print(\"%s : %s \" %(epoch, loss.item()))"
            ],
            "outputs": [
                {
                    "output_type": "stream",
                    "name": "stdout",
                    "text": [
                        "100 : 0.0009868270717561245 \n",
                        "200 : 0.00032102401019074023 \n",
                        "300 : 0.0001044380696839653 \n",
                        "400 : 3.3970434742514044e-05 \n",
                        "500 : 1.1052052286686376e-05 \n",
                        "600 : 3.5954492432210827e-06 \n",
                        "700 : 1.1699041806423338e-06 \n",
                        "800 : 3.804425148246082e-07 \n",
                        "900 : 1.2378869485019095e-07 \n",
                        "1000 : 4.0194695571926786e-08 \n"
                    ]
                }
            ],
            "metadata": {}
        },
        {
            "cell_type": "markdown",
            "source": [
                "输出模型预测的结果\r\n",
                "（这里虽然输出了预测的结果，但是没有直接给出y=ax+b这样的表达式？）"
            ],
            "metadata": {}
        },
        {
            "cell_type": "code",
            "execution_count": 89,
            "source": [
                "predicted = model(torch.from_numpy(x_train).requires_grad_()).data.numpy()\r\n",
                "predicted"
            ],
            "outputs": [
                {
                    "output_type": "execute_result",
                    "data": {
                        "text/plain": [
                            "array([[ 0.9996269],\n",
                            "       [ 2.9996808],\n",
                            "       [ 4.999735 ],\n",
                            "       [ 6.9997883],\n",
                            "       [ 8.999843 ],\n",
                            "       [10.999896 ],\n",
                            "       [12.99995  ],\n",
                            "       [15.000005 ],\n",
                            "       [17.000057 ],\n",
                            "       [19.00011  ],\n",
                            "       [21.000164 ]], dtype=float32)"
                        ]
                    },
                    "metadata": {},
                    "execution_count": 89
                }
            ],
            "metadata": {}
        },
        {
            "cell_type": "markdown",
            "source": [
                "模型的保存与读取"
            ],
            "metadata": {}
        },
        {
            "cell_type": "code",
            "execution_count": 90,
            "source": [
                "torch.save(model.state_dict(), 'model.pkl')\r\n",
                "model.load_state_dict(torch.load('model.pkl'))"
            ],
            "outputs": [
                {
                    "output_type": "execute_result",
                    "data": {
                        "text/plain": [
                            "<All keys matched successfully>"
                        ]
                    },
                    "metadata": {},
                    "execution_count": 90
                }
            ],
            "metadata": {}
        }
    ],
    "metadata": {
        "orig_nbformat": 4,
        "language_info": {
            "name": "python",
            "version": "3.7.6",
            "mimetype": "text/x-python",
            "codemirror_mode": {
                "name": "ipython",
                "version": 3
            },
            "pygments_lexer": "ipython3",
            "nbconvert_exporter": "python",
            "file_extension": ".py"
        },
        "kernelspec": {
            "name": "python3",
            "display_name": "Python 3.7.6 64-bit ('venv': venv)"
        },
        "interpreter": {
            "hash": "be428f660985857db2ed01cadcee9f4bfc5ec4d338235425978435df9ef7a192"
        }
    },
    "nbformat": 4,
    "nbformat_minor": 2
}